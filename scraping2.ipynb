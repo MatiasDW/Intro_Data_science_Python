{
 "cells": [
  {
   "cell_type": "code",
   "execution_count": 2,
   "id": "b632e568-4ef6-47e1-bfec-e8852337aabe",
   "metadata": {},
   "outputs": [],
   "source": [
    "import requests\n",
    "from bs4 import BeautifulSoup\n",
    "\n",
    "def getReviewsFromAmazon(url):\n",
    "    page = requests.get(url)\n",
    "    soup = BeautifulSoup(page.content, \"html.parser\")\n",
    "    reviews = soup.find_all('span', {'data-hook': 'review-body'})\n",
    "\n",
    "    review_list = []\n",
    "    for review in reviews:\n",
    "        review_list.append(review.text)\n",
    "\n",
    "    return review_list\n",
    "\n",
    "# URL de los productos en Amazon\n",
    "samsung_url = 'https://www.amazon.com/SAMSUNG-65-Inch-Class-QLED-Built/dp/B08WF4XDMF/ref=sr_1_16?crid=BRW4NVOSNSEM&keywords=samsung&qid=1647588974&sprefix=samsung+%2Caps%2C152&sr=8-16'\n",
    "sony_url = 'https://www.amazon.com/Sony-X85J-Inch-Compatibility-KD65X85J/dp/B08WJMSS8H/ref=sr_1_20?crid=3A68WA62EK63E&keywords=tcl%2B65%2Binch&qid=1647589168&sprefix=tcl%2B65%2Binch%2Caps%2C149&sr=8-20&th=1'\n",
    "\n",
    "samsung_reviews = getReviewsFromAmazon(samsung_url)\n",
    "sony_reviews = getReviewsFromAmazon(sony_url)\n",
    "\n"
   ]
  },
  {
   "cell_type": "code",
   "execution_count": null,
   "id": "ca50f8c9-6555-4f03-bd92-2453402bb52b",
   "metadata": {},
   "outputs": [],
   "source": [
    "from textblob import TextBlob\n",
    "\n",
    "def get_sentiment(review):\n",
    "    analysis = TextBlob(review)\n",
    "    return analysis.sentiment.polarity\n",
    "\n",
    "samsung_sentiments = [get_sentiment(review) for review in samsung_reviews]\n",
    "sony_sentiments = [get_sentiment(review) for review in sony_reviews]\n"
   ]
  },
  {
   "cell_type": "code",
   "execution_count": 2,
   "id": "7db68140-5f34-45cc-88dc-ee9405a5e722",
   "metadata": {},
   "outputs": [
    {
     "ename": "ModuleNotFoundError",
     "evalue": "No module named 'wordcloud'",
     "output_type": "error",
     "traceback": [
      "\u001b[1;31m---------------------------------------------------------------------------\u001b[0m",
      "\u001b[1;31mModuleNotFoundError\u001b[0m                       Traceback (most recent call last)",
      "Cell \u001b[1;32mIn[2], line 1\u001b[0m\n\u001b[1;32m----> 1\u001b[0m \u001b[38;5;28;01mfrom\u001b[39;00m \u001b[38;5;21;01mwordcloud\u001b[39;00m \u001b[38;5;28;01mimport\u001b[39;00m WordCloud\n\u001b[0;32m      2\u001b[0m \u001b[38;5;28;01mimport\u001b[39;00m \u001b[38;5;21;01mmatplotlib\u001b[39;00m\u001b[38;5;21;01m.\u001b[39;00m\u001b[38;5;21;01mpyplot\u001b[39;00m \u001b[38;5;28;01mas\u001b[39;00m \u001b[38;5;21;01mplt\u001b[39;00m\n\u001b[0;32m      4\u001b[0m \u001b[38;5;28;01mdef\u001b[39;00m \u001b[38;5;21mgenerate_wordcloud\u001b[39m(text):\n",
      "\u001b[1;31mModuleNotFoundError\u001b[0m: No module named 'wordcloud'"
     ]
    }
   ],
   "source": [
    "from wordcloud import WordCloud\n",
    "import matplotlib.pyplot as plt\n",
    "\n",
    "def generate_wordcloud(text):\n",
    "    wordcloud = WordCloud(width = 800, height = 800, \n",
    "                background_color ='white', \n",
    "                stopwords = set(STOPWORDS), \n",
    "                min_font_size = 10).generate(text)\n",
    "    \n",
    "    plt.figure(figsize = (8, 8), facecolor = None) \n",
    "    plt.imshow(wordcloud) \n",
    "    plt.axis(\"off\") \n",
    "    plt.tight_layout(pad = 0) \n",
    "\n",
    "    plt.show() \n",
    "\n",
    "samsung_text = ' '.join(samsung_reviews)\n",
    "sony_text = ' '.join(sony_reviews)\n",
    "\n",
    "generate_wordcloud(samsung_text)\n",
    "generate_wordcloud(sony_text)\n"
   ]
  },
  {
   "cell_type": "code",
   "execution_count": null,
   "id": "189cd4d1-9fdd-4998-96d3-73bc074fdc6d",
   "metadata": {},
   "outputs": [],
   "source": []
  }
 ],
 "metadata": {
  "kernelspec": {
   "display_name": "Python 3 (ipykernel)",
   "language": "python",
   "name": "python3"
  },
  "language_info": {
   "codemirror_mode": {
    "name": "ipython",
    "version": 3
   },
   "file_extension": ".py",
   "mimetype": "text/x-python",
   "name": "python",
   "nbconvert_exporter": "python",
   "pygments_lexer": "ipython3",
   "version": "3.10.9"
  }
 },
 "nbformat": 4,
 "nbformat_minor": 5
}
